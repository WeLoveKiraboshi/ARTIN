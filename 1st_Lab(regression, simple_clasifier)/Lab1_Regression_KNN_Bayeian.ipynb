{
 "cells": [
  {
   "cell_type": "markdown",
   "metadata": {
    "id": "FQB6jUVevZRb"
   },
   "source": [
    "# 機械学習講座  Lab第１回\n",
    "\n",
    "\n",
    "*******************************************************************************\n",
    "code is modified and translated by Yuki Saito at 2020/12/12.\n",
    "All rights are reseraved to Ecole Central de nantes L2SN and Keio University.\n",
    "*******************************************************************************\n"
   ]
  },
  {
   "cell_type": "markdown",
   "metadata": {
    "id": "alKP72LX0DnN"
   },
   "source": [
    "# Introductory Lab1\n",
    "\n",
    "\n",
    "このLabではpythonを用いた機械学習の基本的なライブラリ使用方法を学びます．\n",
    "使用するライブラリは Numpy, と　Scikit-Learn です．\n",
    "以上のライブラリーを用いて，機械学習の入門として登場する3種類のアルゴリズムを実装, 結果の考察をしてください．\n",
    "最後のページに本章のまとめ問題があるので，理解度チェックに使ってください．\n",
    "\n",
    "*   Linear Regression (単回帰モデル)\n",
    "*   K-nearest neighbors (K近傍探索アルゴリズム)\n",
    "*   Naive Bayes (単純ベイズ分類器)\n",
    "\n",
    "\n",
    "**GOALS**: \n",
    "\n",
    "１）機械学習用のデータ分割手法を学ぶ\n",
    "\n",
    "２）scikit-leaernを用いて3つの基本的なアルゴリズムのtrain, test方法を学ぶ\n",
    "\n",
    "３）回帰(regression)と分類(classification)のタスクの違いを理解する\n",
    "\n"
   ]
  },
  {
   "cell_type": "code",
   "execution_count": null,
   "metadata": {},
   "outputs": [],
   "source": []
  },
  {
   "cell_type": "markdown",
   "metadata": {
    "id": "h7l9znFXqw3h"
   },
   "source": [
    "# Importing Modules"
   ]
  },
  {
   "cell_type": "code",
   "execution_count": 15,
   "metadata": {
    "id": "Vy_xMsgDq0jx"
   },
   "outputs": [],
   "source": [
    "import numpy as np #scientific computing (in ML it handles and operates on multi-dimensional arrays)\n",
    "import matplotlib.pyplot as plt #for data visualization\n",
    "import sklearn #for Machine Learning\n",
    "import pandas as pd #for reading, riting and processing databases \n"
   ]
  },
  {
   "cell_type": "markdown",
   "metadata": {
    "id": "GeEfQr-WraKX"
   },
   "source": [
    "# Loading and Splitting Data\n",
    "\n",
    "教師あり学習の目的は\n",
    "\n",
    "「学習データからデータ特徴を学び，未知のデータ(学習していないデータ)に対して\n",
    "うまく推論をできるようにする(汎化性能を獲得する)」\n",
    "\n",
    "ことです．\n",
    "モデルを学習させる時の基本的なルールは手元にある全てのデータをtrain, testデータに分割することです．\n",
    "一般的にtrain:test=8:2程度の割合で分割されることが多いです．\n",
    "また，trainデータはさらにvalidationと呼ばれるセットにもしばし分割されます．validationはモデルの\n",
    "ハイパーパラメータを学習時に決定するために必要なデータ組です．(trainデータのみだと今のハイパーパラメータでモデルを動かしたときにどの程度未知のデータにフィットするのか分からないから....)\n",
    "\n",
    "まとめると，ハイパーパラメータを持つ機械学習モデルを学習する際には，\n",
    "train:validation:test=6:2:2　程度のデータ分割を適用します．\n",
    "\n",
    "*  **Training set** : モデルのパラメータを決定するために使う\n",
    "*  **Validation set** : モデルのハイパーパラメータを決定するために使う\n",
    "*  **Test set** : train, validationが終わった後に，モデルの能力をテストするために使う"
   ]
  },
  {
   "cell_type": "markdown",
   "metadata": {
    "id": "9zyK0InZ2N3b"
   },
   "source": [
    "### Datasets for Regression\n"
   ]
  },
  {
   "cell_type": "code",
   "execution_count": 16,
   "metadata": {
    "id": "IRYBPKoXtRNg"
   },
   "outputs": [
    {
     "name": "stdout",
     "output_type": "stream",
     "text": [
      "['age', 'sex', 'bmi', 'bp', 's1', 's2', 's3', 's4', 's5', 's6']\n",
      "(442,)\n",
      "X train (42, 1)\n",
      "X test (400, 1)\n",
      "y train (42,)\n",
      "y test (400,)\n"
     ]
    }
   ],
   "source": [
    "from sklearn import datasets \n",
    "diabetes = datasets.load_diabetes()\n",
    "\n",
    "\n",
    "\n",
    "# Explore on your own the dimensions of the dataset and their meaning? w\n",
    "age = diabetes.data[:, np.newaxis, 0] \n",
    "sex = diabetes.data[:, np.newaxis, 1] \n",
    "bmi = diabetes.data[:, np.newaxis, 2] \n",
    "bp = diabetes.data[:, np.newaxis, 3] \n",
    "s1 = diabetes.data[:, np.newaxis, 4] \n",
    "s2 = diabetes.data[:, np.newaxis, 5] \n",
    "s3 = diabetes.data[:, np.newaxis, 6] \n",
    "s4 = diabetes.data[:, np.newaxis, 7] \n",
    "s5 = diabetes.data[:, np.newaxis, 8] \n",
    "s6 = diabetes.data[:, np.newaxis, 9] \n",
    "X = bmi #np.concatenate([bp, age, bmi], 1)\n",
    "\n",
    "# SPLIT what is the effect of the following lines?\n",
    "test_size=400\n",
    "X_train = X[:-test_size]\n",
    "X_test = X[-test_size:]\n",
    "y_train = diabetes.target[:-test_size]\n",
    "y_test = diabetes.target[-test_size:]\n",
    "\n",
    "# Explore the data\n",
    "# print(diabetes.DESCR) #Uncomment to see the dataset description\n",
    "print(diabetes.feature_names)\n",
    "print(diabetes.target.shape)\n",
    "print('X train', X_train.shape)\n",
    "print('X test',X_test.shape)\n",
    "print('y train',y_train.shape)\n",
    "print('y test',y_test.shape)\n",
    "\n"
   ]
  },
  {
   "cell_type": "markdown",
   "metadata": {
    "id": "ZBlpHylU7cbZ"
   },
   "source": [
    "### Datasets for Classification"
   ]
  },
  {
   "cell_type": "code",
   "execution_count": 17,
   "metadata": {
    "id": "GwPqKKx8rZ2U"
   },
   "outputs": [
    {
     "name": "stdout",
     "output_type": "stream",
     "text": [
      "['malignant' 'benign']\n",
      "(569,)\n",
      "['mean radius' 'mean texture' 'mean perimeter' 'mean area'\n",
      " 'mean smoothness' 'mean compactness' 'mean concavity'\n",
      " 'mean concave points' 'mean symmetry' 'mean fractal dimension'\n",
      " 'radius error' 'texture error' 'perimeter error' 'area error'\n",
      " 'smoothness error' 'compactness error' 'concavity error'\n",
      " 'concave points error' 'symmetry error' 'fractal dimension error'\n",
      " 'worst radius' 'worst texture' 'worst perimeter' 'worst area'\n",
      " 'worst smoothness' 'worst compactness' 'worst concavity'\n",
      " 'worst concave points' 'worst symmetry' 'worst fractal dimension']\n",
      "(569, 30)\n"
     ]
    }
   ],
   "source": [
    "from sklearn.datasets import load_breast_cancer\n",
    "data = load_breast_cancer()\n",
    "\n",
    "label_names = data['target_names']\n",
    "labels = data['target']\n",
    "feature_names = data['feature_names']\n",
    "features = data['data']\n",
    "\n",
    "print(label_names)\n",
    "print(labels.shape)\n",
    "print(feature_names)\n",
    "print(features.shape)\n",
    "#print(data.DESCR) #Uncomment to see the dataset description"
   ]
  },
  {
   "cell_type": "code",
   "execution_count": 18,
   "metadata": {
    "id": "_nRhb-PHruH9"
   },
   "outputs": [],
   "source": [
    "from sklearn.model_selection import train_test_split\n",
    "\n",
    "X2_train, X2_test, y2_train, y2_test = train_test_split(features,labels,test_size = 0.40, random_state = 42)\n"
   ]
  },
  {
   "cell_type": "markdown",
   "metadata": {
    "id": "S8bb5p0PqVv0"
   },
   "source": [
    "# Training a ML model\n",
    "\n",
    "Scikit-Learnを用いるとモデルの学習する際のpythonコードは非常にシンプルです．\n",
    "\n",
    "１）モデルをscikit-learnから読み込む\n",
    "\n",
    "２）新しいモデルのインスタンスを生成する\n",
    "\n",
    "３）パラメータを学習データを用いてフィットさせる\n",
    "\n",
    "４）テストデータを使用してモデルの推論結果を計算する\n",
    "\n",
    "以下のコードで，どのコードがどのステップに該当するのか\n",
    "確認してみましょう．\n"
   ]
  },
  {
   "cell_type": "markdown",
   "metadata": {
    "id": "tQZxSTfNAY5T"
   },
   "source": [
    "\n",
    "### Model 1. Linear Regression"
   ]
  },
  {
   "cell_type": "code",
   "execution_count": 19,
   "metadata": {
    "id": "tqUdMUhttNL0"
   },
   "outputs": [],
   "source": [
    "#Load and declare a new instance\n",
    "from sklearn import linear_model\n",
    "regr = linear_model.LinearRegression()\n",
    "regr.fit(X_train, y_train)\n",
    "print('モデルの係数)\n",
    "print('Coefficients: \\n', regr.coef_)\n",
    "print('Intercept: \\n', regr.intercept_)\n",
    "      "
   ]
  },
  {
   "cell_type": "code",
   "execution_count": 20,
   "metadata": {
    "id": "PyaY_YzU9oUY"
   },
   "outputs": [
    {
     "name": "stdout",
     "output_type": "stream",
     "text": [
      "Coefficients: \n",
      " [887.13612938]\n",
      "Intercept: \n",
      " 148.09965085613285\n"
     ]
    }
   ],
   "source": [
    "#Fit (train) the model \n",
    "regr.fit(X_train, y_train)\n",
    "print('Coefficients: \\n', regr.coef_)\n",
    "print('Intercept: \\n', regr.intercept_)"
   ]
  },
  {
   "cell_type": "code",
   "execution_count": 21,
   "metadata": {
    "id": "Psq8bTAL9oCq"
   },
   "outputs": [],
   "source": [
    "#Make predictions\n",
    "y_pred = regr.predict(X_test)\n",
    "from sklearn.metrics import mean_squared_error, r2_score\n",
    "print(\"Mean squared error: %.2f\" % mean_squared_error(y_test, y_pred))\n",
    "print('Variance score: %.2f' % r2_score(y_test, y_pred))"
   ]
  },
  {
   "cell_type": "code",
   "execution_count": 22,
   "metadata": {
    "id": "8bJhCgqX__rk"
   },
   "outputs": [
    {
     "name": "stdout",
     "output_type": "stream",
     "text": [
      "Mean squared error: 3916.90\n",
      "Variance score: 0.34\n"
     ]
    }
   ],
   "source": [
    "#Evaluate the performance\n",
    "from sklearn.metrics import mean_squared_error, r2_score\n",
    "print(\"Mean squared error: %.2f\" % mean_squared_error(y_test, y_pred))\n",
    "print('Variance score: %.2f' % r2_score(y_test, y_pred))"
   ]
  },
  {
   "cell_type": "code",
   "execution_count": 23,
   "metadata": {
    "id": "_jgPq4a-9po-"
   },
   "outputs": [
    {
     "data": {
      "image/png": "[encoded data removed]",
      "text/plain": [
       "<Figure size 432x288 with 1 Axes>"
      ]
     },
     "metadata": {
      "needs_background": "light"
     },
     "output_type": "display_data"
    }
   ],
   "source": [
    "#Visualize \n",
    "plt.scatter(X_test, y_test, color='blue')\n",
    "plt.plot(X_test, y_pred, color='red', linewidth=3)\n",
    "#plt.xticks(())\n",
    "#plt.yticks(())\n",
    "plt.xlabel('bmi')\n",
    "plt.ylabel('diabetes progression')\n",
    "plt.show()"
   ]
  },
  {
   "cell_type": "markdown",
   "metadata": {
    "id": "TMLpS4k1qZC0"
   },
   "source": [
    "## Model 2. K-Nearest Neighbors Classifier"
   ]
  },
  {
   "cell_type": "code",
   "execution_count": 24,
   "metadata": {
    "id": "45Ma2BaVsqIF"
   },
   "outputs": [
    {
     "name": "stdout",
     "output_type": "stream",
     "text": [
      "test accuracy id:1 0.945054945054945\n",
      "test accuracy id:2 0.9175824175824175\n",
      "test accuracy id:3 0.945054945054945\n",
      "test accuracy id:4 0.9285714285714286\n",
      "test accuracy id:5 0.9505494505494505\n",
      "test accuracy id:6 0.9615384615384616\n",
      "test accuracy id:7 0.9725274725274725\n",
      "test accuracy id:8 0.9725274725274725\n",
      "test accuracy id:9 0.9835164835164835\n",
      "test accuracy id:10 0.989010989010989\n",
      "test accuracy id:11 0.978021978021978\n",
      "test accuracy id:12 0.978021978021978\n",
      "test accuracy id:13 0.978021978021978\n",
      "test accuracy id:14 0.9835164835164835\n",
      "test accuracy id:15 0.9725274725274725\n",
      "test accuracy id:16 0.9725274725274725\n",
      "test accuracy id:17 0.9725274725274725\n",
      "test accuracy id:18 0.9725274725274725\n",
      "test accuracy id:19 0.9615384615384616\n",
      "test accuracy id:20 0.967032967032967\n",
      "test accuracy id:21 0.967032967032967\n",
      "test accuracy id:22 0.967032967032967\n",
      "test accuracy id:23 0.9560439560439561\n",
      "test accuracy id:24 0.967032967032967\n",
      "test accuracy id:25 0.9560439560439561\n",
      "test accuracy id:26 0.9615384615384616\n",
      "test accuracy id:27 0.9505494505494505\n",
      "test accuracy id:28 0.9560439560439561\n",
      "test accuracy id:29 0.9560439560439561\n",
      "test accuracy id:30 0.9560439560439561\n",
      "[1 0 0 1 1 0 0 0 1 1 1 0 1 1 1 0 1 1 1 0 1 1 0 1 1 1 1 1 1 0 1 1 1 1 1 1 0\n",
      " 1 0 1 1 0 1 1 1 1 1 1 1 1 0 0 1 1 1 1 1 0 0 1 1 0 0 1 1 1 0 0 1 1 1 0 1 1\n",
      " 1 1 1 0 1 1 0 1 0 0 0 0 0 0 1 1 1 1 1 1 1 1 0 0 1 0 0 1 0 0 1 1 1 0 1 1 0\n",
      " 1 1 0 1 0 1 1 1 0 1 1 1 0 1 0 0 1 1 0 0 0 0 1 0 0 1 1 0 0 1 0 1 1 0 1 0 0\n",
      " 0 1 0 1 1 1 1 0 0 1 1 1 1 1 1 1 0 1 1 1 1 0 1 1 1 0 1 1 0 1 1 1 1 1 1 0 0\n",
      " 0 0 1 0 1 0 1 1 1 1 0 1 1 0 1 1 1 0 1 0 0 1 1 1 1 1 1 1 1 0 1 1 1 1 1 0 1\n",
      " 0 0 1 1 0 1]\n"
     ]
    },
    {
     "data": {
      "image/png": "[encoded data removed]",
      "text/plain": [
       "<Figure size 432x288 with 1 Axes>"
      ]
     },
     "metadata": {
      "needs_background": "light"
     },
     "output_type": "display_data"
    }
   ],
   "source": [
    "from sklearn.neighbors import KNeighborsClassifier\n",
    "\n",
    "x=[]\n",
    "y=[]\n",
    "for k in range(30):\n",
    "    k += 1\n",
    "    X2_test_val, X2_test_test, y2_test_val, y2_test_test = train_test_split(X2_test, y2_test,test_size = 0.20, random_state = 42)\n",
    "    knnClassifier = KNeighborsClassifier(n_neighbors=k)\n",
    "    knnClassifier.fit(X2_train, y2_train)\n",
    "    y2_pred_knn = knnClassifier.predict(X2_test_val)\n",
    "    #Compute accuracy on the test set\n",
    "    test_accuracy = knnClassifier.score(X2_test_val, y2_test_val) \n",
    "    print('test accuracy id:{}'.format(k),test_accuracy)\n",
    "    x.append(k)\n",
    "    y.append(test_accuracy)\n",
    "\n",
    "import matplotlib.pyplot as plt \n",
    "left = np.array(x)\n",
    "height = np.array(y)\n",
    "plt.xlabel('size for knn (k)')\n",
    "plt.ylabel('validation accuracy')\n",
    "plt.plot(left, height)\n",
    "\n",
    "\n",
    "\n",
    "knnClassifier = KNeighborsClassifier(n_neighbors=5)\n",
    "knnClassifier.fit(X2_train, y2_train)\n",
    "y2_pred_knn = knnClassifier.predict(X2_test)\n",
    "print(y2_pred_knn)\n"
   ]
  },
  {
   "cell_type": "code",
   "execution_count": 12,
   "metadata": {
    "id": "EvDv8enObTc2"
   },
   "outputs": [
    {
     "name": "stdout",
     "output_type": "stream",
     "text": [
      "train accuracy 0.9149560117302052\n",
      "test accuracy 0.956140350877193\n"
     ]
    }
   ],
   "source": [
    "#Compute accuracy on the training set\n",
    "train_accuracy = knnClassifier.score(X2_train, y2_train)\n",
    "    \n",
    "#Compute accuracy on the test set\n",
    "test_accuracy = knnClassifier.score(X2_test, y2_test) \n",
    "\n",
    "print('train accuracy', train_accuracy)\n",
    "print('test accuracy',test_accuracy)"
   ]
  },
  {
   "cell_type": "markdown",
   "metadata": {
    "id": "0Uy3nUkjqdNl"
   },
   "source": [
    "## Model 3.Naive Bayes Classifier(単純ベイズ分類器)"
   ]
  },
  {
   "cell_type": "code",
   "execution_count": 13,
   "metadata": {
    "id": "yEkGgcgUqn_K"
   },
   "outputs": [
    {
     "name": "stdout",
     "output_type": "stream",
     "text": [
      "priterior probability P(y=Ck | x_1,x_2…,x_D) =  [[2.71573455e-009 9.99999997e-001]\n",
      " [1.00000000e+000 4.09412055e-061]\n",
      " [1.00000000e+000 4.31077847e-010]\n",
      " [2.03494629e-011 1.00000000e+000]\n",
      " [3.61176063e-014 1.00000000e+000]\n",
      " [1.00000000e+000 1.42174630e-104]\n",
      " [1.00000000e+000 7.10826681e-136]\n",
      " [1.00000000e+000 1.07285461e-019]\n",
      " [2.56960353e-001 7.43039647e-001]\n",
      " [5.15136832e-013 1.00000000e+000]\n",
      " [1.33749142e-012 1.00000000e+000]\n",
      " [1.00000000e+000 4.65745137e-018]\n",
      " [5.21176591e-011 1.00000000e+000]\n",
      " [1.00000000e+000 1.88388254e-010]\n",
      " [1.66838442e-013 1.00000000e+000]\n",
      " [1.00000000e+000 2.11252061e-040]\n",
      " [3.61229880e-012 1.00000000e+000]\n",
      " [1.75980793e-016 1.00000000e+000]\n",
      " [2.02065527e-013 1.00000000e+000]\n",
      " [1.00000000e+000 4.32871082e-068]\n",
      " [5.24151890e-006 9.99994758e-001]\n",
      " [3.89959360e-013 1.00000000e+000]\n",
      " [1.00000000e+000 1.51441031e-090]\n",
      " [3.51645755e-016 1.00000000e+000]\n",
      " [1.75591242e-014 1.00000000e+000]\n",
      " [7.76727035e-012 1.00000000e+000]\n",
      " [1.29408755e-012 1.00000000e+000]\n",
      " [9.17034232e-012 1.00000000e+000]\n",
      " [1.74867512e-013 1.00000000e+000]\n",
      " [1.00000000e+000 1.48640344e-047]\n",
      " [3.22651708e-013 1.00000000e+000]\n",
      " [1.78015523e-016 1.00000000e+000]\n",
      " [2.47816054e-007 9.99999752e-001]\n",
      " [1.88081915e-012 1.00000000e+000]\n",
      " [4.89629918e-015 1.00000000e+000]\n",
      " [8.26995973e-015 1.00000000e+000]\n",
      " [9.77509975e-001 2.24900255e-002]\n",
      " [2.51082305e-012 1.00000000e+000]\n",
      " [1.00000000e+000 2.88124440e-030]\n",
      " [9.45887674e-009 9.99999991e-001]\n",
      " [4.57217784e-015 1.00000000e+000]\n",
      " [1.00000000e+000 6.03504353e-014]\n",
      " [2.70300242e-012 1.00000000e+000]\n",
      " [9.02038583e-015 1.00000000e+000]\n",
      " [4.90099754e-007 9.99999510e-001]\n",
      " [2.30524282e-012 1.00000000e+000]\n",
      " [6.82844652e-012 1.00000000e+000]\n",
      " [1.30318563e-013 1.00000000e+000]\n",
      " [3.08264939e-011 1.00000000e+000]\n",
      " [2.30701454e-011 1.00000000e+000]\n",
      " [1.00000000e+000 8.53734184e-020]\n",
      " [1.00000000e+000 1.71829803e-072]\n",
      " [3.14106497e-003 9.96858935e-001]\n",
      " [8.82724230e-006 9.99991173e-001]\n",
      " [3.44613029e-013 1.00000000e+000]\n",
      " [3.00951727e-012 1.00000000e+000]\n",
      " [1.69969135e-012 1.00000000e+000]\n",
      " [1.00000000e+000 1.97396804e-178]\n",
      " [5.99210764e-001 4.00789236e-001]\n",
      " [9.58624359e-016 1.00000000e+000]\n",
      " [9.05303242e-013 1.00000000e+000]\n",
      " [1.00000000e+000 9.54044910e-066]\n",
      " [1.00000000e+000 1.92580843e-142]\n",
      " [7.81748307e-011 1.00000000e+000]\n",
      " [1.01307664e-015 1.00000000e+000]\n",
      " [2.83393470e-009 9.99999997e-001]\n",
      " [1.00000000e+000 3.26589542e-028]\n",
      " [1.00000000e+000 1.64320355e-125]\n",
      " [6.13596958e-015 1.00000000e+000]\n",
      " [1.72402781e-008 9.99999983e-001]\n",
      " [9.99999988e-001 1.17834601e-008]\n",
      " [1.00000000e+000 2.74152891e-020]\n",
      " [2.42800520e-012 1.00000000e+000]\n",
      " [1.00000000e+000 1.87048236e-013]\n",
      " [2.57915886e-013 1.00000000e+000]\n",
      " [1.58218992e-009 9.99999998e-001]\n",
      " [1.01407360e-011 1.00000000e+000]\n",
      " [2.14422419e-003 9.97855776e-001]\n",
      " [1.14757814e-017 1.00000000e+000]\n",
      " [1.28578766e-010 1.00000000e+000]\n",
      " [1.00000000e+000 2.41269389e-010]\n",
      " [6.95577032e-018 1.00000000e+000]\n",
      " [2.53867762e-002 9.74613224e-001]\n",
      " [1.00000000e+000 3.35029289e-117]\n",
      " [1.00000000e+000 9.30339828e-014]\n",
      " [1.00000000e+000 2.60481016e-024]\n",
      " [1.00000000e+000 2.74174017e-031]\n",
      " [1.00000000e+000 1.06188389e-061]\n",
      " [2.93511679e-010 1.00000000e+000]\n",
      " [1.44828792e-012 1.00000000e+000]\n",
      " [7.95356199e-013 1.00000000e+000]\n",
      " [5.07067506e-007 9.99999493e-001]\n",
      " [3.02264611e-005 9.99969774e-001]\n",
      " [4.49882271e-017 1.00000000e+000]\n",
      " [1.12159278e-015 1.00000000e+000]\n",
      " [2.06155277e-014 1.00000000e+000]\n",
      " [1.00000000e+000 7.62327323e-063]\n",
      " [1.00000000e+000 3.64956124e-023]\n",
      " [3.18051859e-017 1.00000000e+000]\n",
      " [1.00000000e+000 3.05655740e-021]\n",
      " [9.99999996e-001 4.14474203e-009]\n",
      " [1.80874226e-018 1.00000000e+000]\n",
      " [1.00000000e+000 2.44434337e-087]\n",
      " [1.00000000e+000 4.68492365e-023]\n",
      " [2.97559679e-012 1.00000000e+000]\n",
      " [2.28963666e-011 1.00000000e+000]\n",
      " [5.71945060e-012 1.00000000e+000]\n",
      " [1.00000000e+000 2.54838236e-217]\n",
      " [4.71256810e-006 9.99995287e-001]\n",
      " [2.17704815e-009 9.99999998e-001]\n",
      " [1.00000000e+000 1.18047821e-023]\n",
      " [2.22085359e-014 1.00000000e+000]\n",
      " [5.18202844e-006 9.99994818e-001]\n",
      " [1.00000000e+000 6.88543169e-239]\n",
      " [9.99942781e-001 5.72185792e-005]\n",
      " [1.00000000e+000 1.71730273e-097]\n",
      " [1.05114270e-013 1.00000000e+000]\n",
      " [6.99555046e-013 1.00000000e+000]\n",
      " [4.39170794e-013 1.00000000e+000]\n",
      " [1.00000000e+000 6.77378497e-017]\n",
      " [1.00000000e+000 1.74672074e-014]\n",
      " [7.68437086e-015 1.00000000e+000]\n",
      " [2.72215356e-013 1.00000000e+000]\n",
      " [1.00000000e+000 5.82190080e-042]\n",
      " [5.14441788e-010 9.99999999e-001]\n",
      " [1.00000000e+000 1.37216519e-071]\n",
      " [1.00000000e+000 4.43037032e-014]\n",
      " [1.09782669e-013 1.00000000e+000]\n",
      " [1.40642272e-013 1.00000000e+000]\n",
      " [1.00000000e+000 5.00749263e-055]\n",
      " [1.00000000e+000 1.42288487e-145]\n",
      " [1.00000000e+000 1.00064485e-030]\n",
      " [3.74547054e-011 1.00000000e+000]\n",
      " [3.97422360e-014 1.00000000e+000]\n",
      " [1.29917338e-007 9.99999870e-001]\n",
      " [1.00000000e+000 1.05249842e-022]\n",
      " [4.92570830e-007 9.99999507e-001]\n",
      " [9.54589249e-014 1.00000000e+000]\n",
      " [7.94868299e-001 2.05131701e-001]\n",
      " [9.99999996e-001 4.01299030e-009]\n",
      " [2.04343603e-014 1.00000000e+000]\n",
      " [1.00000000e+000 7.91742447e-100]\n",
      " [1.43553476e-016 1.00000000e+000]\n",
      " [5.77999303e-017 1.00000000e+000]\n",
      " [9.99995173e-001 4.82666656e-006]\n",
      " [1.43712558e-012 1.00000000e+000]\n",
      " [1.00000000e+000 1.15353547e-027]\n",
      " [1.00000000e+000 4.02944374e-078]\n",
      " [6.74109494e-002 9.32589051e-001]\n",
      " [8.82582519e-015 1.00000000e+000]\n",
      " [4.96962669e-002 9.50303733e-001]\n",
      " [1.18413102e-016 1.00000000e+000]\n",
      " [6.62404773e-014 1.00000000e+000]\n",
      " [6.93497027e-012 1.00000000e+000]\n",
      " [1.92859950e-014 1.00000000e+000]\n",
      " [1.00000000e+000 8.20702931e-219]\n",
      " [1.00000000e+000 3.62262546e-035]\n",
      " [8.92626481e-015 1.00000000e+000]\n",
      " [9.35537620e-011 1.00000000e+000]\n",
      " [6.13879738e-017 1.00000000e+000]\n",
      " [1.45360099e-019 1.00000000e+000]\n",
      " [1.70711396e-010 1.00000000e+000]\n",
      " [7.23225777e-017 1.00000000e+000]\n",
      " [1.06943838e-010 1.00000000e+000]\n",
      " [1.12464802e-002 9.88753520e-001]\n",
      " [4.35707029e-012 1.00000000e+000]\n",
      " [1.85513757e-015 1.00000000e+000]\n",
      " [3.13908883e-007 9.99999686e-001]\n",
      " [1.10670600e-008 9.99999989e-001]\n",
      " [9.99961166e-001 3.88339993e-005]\n",
      " [2.35487745e-001 7.64512255e-001]\n",
      " [2.19445900e-013 1.00000000e+000]\n",
      " [2.73863155e-011 1.00000000e+000]\n",
      " [9.99993639e-001 6.36137184e-006]\n",
      " [9.34888458e-014 1.00000000e+000]\n",
      " [3.73228855e-011 1.00000000e+000]\n",
      " [9.99998600e-001 1.39994811e-006]\n",
      " [7.96478075e-005 9.99920352e-001]\n",
      " [8.33117924e-015 1.00000000e+000]\n",
      " [1.55536671e-009 9.99999998e-001]\n",
      " [9.80646892e-009 9.99999990e-001]\n",
      " [2.76927645e-013 1.00000000e+000]\n",
      " [1.64436602e-011 1.00000000e+000]\n",
      " [1.00000000e+000 7.67456057e-020]\n",
      " [1.00000000e+000 2.58906386e-050]\n",
      " [9.99997918e-001 2.08230421e-006]\n",
      " [2.29139734e-001 7.70860266e-001]\n",
      " [4.26172641e-010 1.00000000e+000]\n",
      " [1.00000000e+000 3.09329518e-013]\n",
      " [1.72889281e-010 1.00000000e+000]\n",
      " [1.00000000e+000 2.22944975e-076]\n",
      " [3.18798892e-012 1.00000000e+000]\n",
      " [2.67603528e-012 1.00000000e+000]\n",
      " [1.09047526e-017 1.00000000e+000]\n",
      " [6.03920137e-015 1.00000000e+000]\n",
      " [1.00000000e+000 4.38529576e-012]\n",
      " [2.24189584e-009 9.99999998e-001]\n",
      " [9.24405937e-016 1.00000000e+000]\n",
      " [1.00000000e+000 1.25238667e-078]\n",
      " [3.33259101e-016 1.00000000e+000]\n",
      " [3.74560877e-012 1.00000000e+000]\n",
      " [2.93779804e-007 9.99999706e-001]\n",
      " [1.00000000e+000 1.59747523e-102]\n",
      " [1.58533249e-012 1.00000000e+000]\n",
      " [1.00000000e+000 1.18600836e-051]\n",
      " [1.00000000e+000 5.84103124e-094]\n",
      " [1.22513999e-015 1.00000000e+000]\n",
      " [1.37579578e-015 1.00000000e+000]\n",
      " [4.14142152e-009 9.99999996e-001]\n",
      " [3.12763096e-004 9.99687237e-001]\n",
      " [5.91471481e-013 1.00000000e+000]\n",
      " [5.48773476e-015 1.00000000e+000]\n",
      " [2.17375082e-012 1.00000000e+000]\n",
      " [1.69210588e-018 1.00000000e+000]\n",
      " [1.00000000e+000 2.46101383e-012]\n",
      " [5.03907894e-013 1.00000000e+000]\n",
      " [6.99209979e-015 1.00000000e+000]\n",
      " [4.98668912e-017 1.00000000e+000]\n",
      " [7.92272949e-015 1.00000000e+000]\n",
      " [9.21926539e-017 1.00000000e+000]\n",
      " [9.99999962e-001 3.79808393e-008]\n",
      " [6.51829187e-008 9.99999935e-001]\n",
      " [1.00000000e+000 8.11398180e-078]\n",
      " [1.00000000e+000 7.19756657e-028]\n",
      " [9.02971147e-013 1.00000000e+000]\n",
      " [2.40048694e-013 1.00000000e+000]\n",
      " [1.00000000e+000 9.35805367e-167]\n",
      " [7.37825915e-014 1.00000000e+000]]\n",
      "prior probabiity for each class P(y=Ck) =  [0.38709677 0.61290323]\n",
      "gaussian distibution : sigma=[[1.17171171e+01 1.35329727e+01 5.38894784e+02 1.59641499e+05\n",
      "  5.00600235e-04 2.89528011e-03 5.68496675e-03 1.44980330e-03\n",
      "  9.82096539e-04 3.91461209e-04 1.48412411e-01 2.52274554e-01\n",
      "  8.01516425e+00 4.99146258e+03 3.46474027e-04 6.83616807e-04\n",
      "  8.31380725e-04 3.69810966e-04 4.40038464e-04 3.39721282e-04\n",
      "  1.99168744e+01 2.67646373e+01 9.00371173e+02 3.96582185e+05\n",
      "  8.46243217e-04 2.57929820e-02 2.76756547e-02 2.41252968e-03\n",
      "  6.35189536e-03 7.37905775e-04]\n",
      " [3.12998493e+00 1.69231274e+01 1.35680726e+02 1.85124157e+04\n",
      "  5.06655272e-04 1.65351769e-03 2.50673805e-03 5.78884861e-04\n",
      "  9.66076446e-04 3.86760488e-04 1.20572271e-02 3.09250155e-01\n",
      "  6.04577353e-01 7.24547071e+01 3.45297311e-04 6.21810273e-04\n",
      "  1.54183546e-03 3.71523935e-04 3.76838700e-04 3.45430177e-04\n",
      "  3.92846497e+00 3.16276052e+01 1.79178240e+02 2.77460551e+04\n",
      "  7.40844782e-04 9.07955280e-03 1.89482433e-02 1.56426495e-03\n",
      "  1.83086857e-03 5.50893192e-04]], theta=[[1.74860606e+01 2.14897727e+01 1.15441894e+02 9.86187879e+02\n",
      "  1.02079470e-01 1.41534621e-01 1.59790227e-01 8.70509091e-02\n",
      "  1.91369697e-01 6.20731818e-02 6.02407576e-01 1.23020227e+00\n",
      "  4.27797727e+00 7.26554545e+01 6.90898485e-03 3.18595303e-02\n",
      "  4.25900000e-02 1.52066136e-02 2.08534773e-02 3.98475758e-03\n",
      "  2.09292424e+01 2.91335606e+01 1.39751970e+02 1.40161818e+03\n",
      "  1.43208258e-01 3.59634470e-01 4.41185455e-01 1.79485303e-01\n",
      "  3.21331061e-01 8.94852273e-02]\n",
      " [1.22356794e+01 1.78033971e+01 7.86871292e+01 4.69468421e+02\n",
      "  9.25830144e-02 8.10645455e-02 4.69528660e-02 2.58924593e-02\n",
      "  1.73023923e-01 6.28888995e-02 2.85766507e-01 1.18940383e+00\n",
      "  2.03629952e+00 2.13934689e+01 7.11134450e-03 2.15353684e-02\n",
      "  2.68688895e-02 1.01385215e-02 1.98567943e-02 3.69476794e-03\n",
      "  1.34779569e+01 2.33256459e+01 8.77556938e+01 5.67419139e+02\n",
      "  1.24560096e-01 1.82119569e-01 1.67002244e-01 7.50081388e-02\n",
      "  2.65912919e-01 7.96368421e-02]]\n",
      "Π P(xd|y=Ck) based on gaussian distibution =  [[2.50933344e-20 2.82452373e-20]\n",
      " [2.37422615e-20 2.58458014e-20]\n",
      " [2.53839336e-20 2.48072074e-20]\n",
      " [2.49014926e-20 2.75932620e-20]\n",
      " [2.46022519e-20 2.82169648e-20]\n",
      " [2.08121242e-20 1.81832280e-20]\n",
      " [2.50217619e-20 2.49291353e-20]\n",
      " [2.57053668e-20 2.66385584e-20]\n",
      " [2.59251065e-20 2.34078296e-20]\n",
      " [2.03198790e-20 2.68086422e-20]\n",
      " [2.18696373e-20 2.83515770e-20]\n",
      " [2.45712521e-20 2.68015468e-20]\n",
      " [2.02942946e-20 2.72565652e-20]\n",
      " [2.43510100e-20 2.36389122e-20]\n",
      " [2.24120602e-20 2.83335408e-20]\n",
      " [2.27714714e-20 2.14646811e-20]\n",
      " [2.15529054e-20 2.80634157e-20]\n",
      " [2.27416173e-20 2.77982353e-20]\n",
      " [2.11340299e-20 2.39536338e-20]\n",
      " [2.52558138e-20 2.44589235e-20]\n",
      " [2.44879294e-20 2.64379313e-20]\n",
      " [2.40802959e-20 2.84266616e-20]\n",
      " [2.41805580e-20 2.17013352e-20]\n",
      " [2.07356258e-20 2.68992488e-20]\n",
      " [2.11211576e-20 2.64185459e-20]\n",
      " [2.23289664e-20 2.44563732e-20]\n",
      " [2.27705681e-20 2.89324992e-20]\n",
      " [2.41509027e-20 2.86832255e-20]\n",
      " [2.36144823e-20 2.93938039e-20]\n",
      " [2.42364353e-20 2.08427250e-20]\n",
      " [2.38064656e-20 2.82434560e-20]\n",
      " [2.23469655e-20 2.88288034e-20]\n",
      " [2.22026727e-20 2.62921297e-20]\n",
      " [2.21055847e-20 2.86357309e-20]\n",
      " [2.35426033e-20 2.79579652e-20]\n",
      " [2.27011909e-20 2.78946672e-20]\n",
      " [2.18738918e-20 2.82895067e-20]\n",
      " [2.15519310e-20 2.66996289e-20]\n",
      " [2.51598235e-20 2.58568644e-20]\n",
      " [2.26674954e-20 2.92537481e-20]\n",
      " [2.35300911e-20 2.78998956e-20]\n",
      " [2.52816631e-20 2.51691623e-20]\n",
      " [2.49762378e-20 2.77214245e-20]\n",
      " [2.28045415e-20 2.90724246e-20]\n",
      " [2.27756341e-20 2.43219045e-20]\n",
      " [2.25627042e-20 2.77394001e-20]\n",
      " [2.01996184e-20 2.22494740e-20]\n",
      " [2.02229571e-20 2.58813711e-20]\n",
      " [2.39812538e-20 2.78812554e-20]\n",
      " [2.15640497e-20 2.61679324e-20]\n",
      " [2.45211531e-20 2.54718774e-20]\n",
      " [2.54303305e-20 2.27235338e-20]\n",
      " [2.45466184e-20 2.53455209e-20]\n",
      " [2.37981197e-20 2.40292995e-20]\n",
      " [2.29615821e-20 2.47313543e-20]\n",
      " [2.12454245e-20 2.74742805e-20]\n",
      " [2.45298339e-20 2.67152758e-20]\n",
      " [2.29461835e-20 2.12805852e-20]\n",
      " [2.49426810e-20 2.50699059e-20]\n",
      " [2.36959017e-20 2.92843549e-20]\n",
      " [2.39032861e-20 2.94971680e-20]\n",
      " [2.54061254e-20 2.27889927e-20]\n",
      " [2.41599815e-20 2.34832854e-20]\n",
      " [2.05511490e-20 2.70610866e-20]\n",
      " [2.13272545e-20 2.77313098e-20]\n",
      " [2.28891987e-20 2.79945605e-20]\n",
      " [2.31822421e-20 1.95772316e-20]\n",
      " [1.56553473e-20 1.35738847e-20]\n",
      " [2.24904911e-20 2.73711697e-20]\n",
      " [2.48509591e-20 2.79983283e-20]\n",
      " [2.45663846e-20 2.25641013e-20]\n",
      " [2.57322858e-20 2.45248666e-20]\n",
      " [2.13866667e-20 2.81767438e-20]\n",
      " [2.60557608e-20 2.41417356e-20]\n",
      " [2.06861356e-20 2.51078411e-20]\n",
      " [2.45798020e-20 2.66044699e-20]\n",
      " [2.23244895e-20 2.86297332e-20]\n",
      " [2.56639679e-20 2.61043447e-20]\n",
      " [2.07391755e-20 2.68859870e-20]\n",
      " [2.40688308e-20 2.44596682e-20]\n",
      " [2.48334100e-20 2.58012863e-20]\n",
      " [2.12165037e-20 2.71149394e-20]\n",
      " [2.47956218e-20 2.65611169e-20]\n",
      " [2.37681529e-20 2.32445939e-20]\n",
      " [2.29619677e-20 2.79714529e-20]\n",
      " [2.09855262e-20 1.76434741e-20]\n",
      " [1.95798559e-20 1.69007598e-20]\n",
      " [2.21217082e-20 2.07346650e-20]\n",
      " [2.13784977e-20 2.47402756e-20]\n",
      " [2.35424746e-20 2.72676579e-20]\n",
      " [2.39255666e-20 2.83665379e-20]\n",
      " [2.39218807e-20 2.65683874e-20]\n",
      " [2.37948521e-20 2.67674959e-20]\n",
      " [1.80808248e-20 2.30868109e-20]\n",
      " [2.14657263e-20 2.49726213e-20]\n",
      " [2.33965639e-20 2.75854203e-20]\n",
      " [2.49709896e-20 2.57452656e-20]\n",
      " [2.21681436e-20 1.93618951e-20]\n",
      " [2.29919466e-20 2.84409145e-20]\n",
      " [2.42134119e-20 2.51617435e-20]\n",
      " [2.45967141e-20 2.68912391e-20]\n",
      " [2.18515339e-20 2.64709772e-20]\n",
      " [2.43256197e-20 2.04514406e-20]\n",
      " [2.60419326e-20 2.47293551e-20]\n",
      " [2.24882443e-20 2.77914653e-20]\n",
      " [2.40368942e-20 2.82357695e-20]\n",
      " [2.43271962e-20 2.82278296e-20]\n",
      " [2.45000969e-20 2.47070590e-20]\n",
      " [2.52977073e-20 2.74646551e-20]\n",
      " [2.11883951e-20 2.79285067e-20]\n",
      " [2.46156995e-20 2.57496218e-20]\n",
      " [2.42143355e-20 2.90448292e-20]\n",
      " [2.26692229e-20 2.69631745e-20]\n",
      " [2.51074914e-20 2.58349870e-20]\n",
      " [1.88471707e-20 1.73249162e-20]\n",
      " [2.19956768e-20 1.95000999e-20]\n",
      " [2.11790159e-20 2.49032491e-20]\n",
      " [2.34516351e-20 2.80310472e-20]\n",
      " [2.07572061e-20 2.45599756e-20]\n",
      " [2.33682851e-20 1.99659563e-20]\n",
      " [1.83986899e-20 1.97795304e-20]\n",
      " [2.29259708e-20 2.91084631e-20]\n",
      " [2.33544030e-20 2.89820178e-20]\n",
      " [2.58299651e-20 2.51135999e-20]\n",
      " [2.47779854e-20 2.83967806e-20]\n",
      " [2.45374418e-20 2.50751042e-20]\n",
      " [2.41903246e-20 2.11250136e-20]\n",
      " [2.34354427e-20 2.82344057e-20]\n",
      " [2.16050256e-20 2.83820095e-20]\n",
      " [2.54721737e-20 2.32529719e-20]\n",
      " [2.10606506e-20 1.81340601e-20]\n",
      " [2.30576566e-20 2.03759229e-20]\n",
      " [1.99064121e-20 2.66806416e-20]\n",
      " [2.24212956e-20 2.77669184e-20]\n",
      " [2.14368540e-20 2.76024330e-20]\n",
      " [2.27867259e-20 1.98093000e-20]\n",
      " [2.53552865e-20 2.69168464e-20]\n",
      " [2.30161533e-20 2.72998385e-20]\n",
      " [2.53928371e-20 2.42629274e-20]\n",
      " [2.48503038e-20 2.45270765e-20]\n",
      " [2.32865518e-20 2.86546500e-20]\n",
      " [2.47945702e-20 2.50733407e-20]\n",
      " [2.34040205e-20 2.90279987e-20]\n",
      " [1.96374342e-20 2.59604875e-20]\n",
      " [2.49093282e-20 2.19194429e-20]\n",
      " [2.22258454e-20 2.71267789e-20]\n",
      " [2.57643037e-20 2.52408844e-20]\n",
      " [2.34480374e-20 2.27825558e-20]\n",
      " [2.35662282e-20 2.77441647e-20]\n",
      " [2.06907295e-20 2.67588058e-20]\n",
      " [2.32597143e-20 2.81101096e-20]\n",
      " [2.08762388e-20 2.70914860e-20]\n",
      " [2.27082882e-20 2.78787378e-20]\n",
      " [2.33180241e-20 2.89437964e-20]\n",
      " [2.03729716e-20 2.56348735e-20]\n",
      " [1.81495283e-20 1.66785677e-20]\n",
      " [2.61691733e-20 2.46087226e-20]\n",
      " [1.82611357e-20 2.37142529e-20]\n",
      " [2.24024717e-20 2.90425580e-20]\n",
      " [2.06066901e-20 2.72068381e-20]\n",
      " [1.78097032e-20 2.24898478e-20]\n",
      " [2.37693192e-20 2.75685319e-20]\n",
      " [2.19784152e-20 2.64635295e-20]\n",
      " [2.29561217e-20 2.66835457e-20]\n",
      " [2.19008280e-20 2.72907154e-20]\n",
      " [2.48723237e-20 2.78432681e-20]\n",
      " [2.23684648e-20 2.82344190e-20]\n",
      " [2.24907434e-20 2.84216934e-20]\n",
      " [1.86046308e-20 2.07630491e-20]\n",
      " [2.33948016e-20 2.01848747e-20]\n",
      " [2.25572875e-20 2.43523347e-20]\n",
      " [2.05545755e-20 2.72547672e-20]\n",
      " [2.15933582e-20 2.68550580e-20]\n",
      " [2.45785522e-20 2.39044455e-20]\n",
      " [2.22442188e-20 2.84131693e-20]\n",
      " [2.31649525e-20 2.94120559e-20]\n",
      " [2.16172846e-20 2.82898012e-20]\n",
      " [2.42833705e-20 2.77738594e-20]\n",
      " [2.33660483e-20 2.91243880e-20]\n",
      " [2.42112079e-20 2.72241631e-20]\n",
      " [2.48532377e-20 2.81866295e-20]\n",
      " [2.24471494e-20 2.83299568e-20]\n",
      " [2.29070443e-20 2.58974425e-20]\n",
      " [2.54140202e-20 2.75325885e-20]\n",
      " [2.62553890e-20 2.49149204e-20]\n",
      " [2.35243249e-20 2.15468601e-20]\n",
      " [2.48718653e-20 2.64451666e-20]\n",
      " [2.47126065e-20 2.76920343e-20]\n",
      " [2.48085376e-20 2.21384696e-20]\n",
      " [2.19403119e-20 2.70256522e-20]\n",
      " [2.58612919e-20 2.41086413e-20]\n",
      " [2.26523195e-20 2.87389457e-20]\n",
      " [2.36090538e-20 2.85583307e-20]\n",
      " [1.93546285e-20 2.51489884e-20]\n",
      " [2.20606685e-20 2.74370208e-20]\n",
      " [2.26235038e-20 2.62140056e-20]\n",
      " [2.32417933e-20 2.85400192e-20]\n",
      " [2.23357419e-20 2.80059448e-20]\n",
      " [2.23644134e-20 1.96109002e-20]\n",
      " [2.12401578e-20 2.74051081e-20]\n",
      " [1.95301458e-20 2.63421518e-20]\n",
      " [2.11838910e-20 2.34227391e-20]\n",
      " [1.92911783e-20 1.76076601e-20]\n",
      " [2.22445761e-20 2.83426852e-20]\n",
      " [2.55612909e-20 2.32411430e-20]\n",
      " [2.59090363e-20 2.48708810e-20]\n",
      " [2.25094265e-20 2.85675823e-20]\n",
      " [2.18914137e-20 2.82070905e-20]\n",
      " [2.46745092e-20 2.79498116e-20]\n",
      " [2.37622771e-20 2.78022027e-20]\n",
      " [2.40420107e-20 2.85943836e-20]\n",
      " [2.24999433e-20 2.74373461e-20]\n",
      " [2.22597728e-20 2.39866256e-20]\n",
      " [2.03721049e-20 2.54116476e-20]\n",
      " [2.27420552e-20 2.09942155e-20]\n",
      " [2.40270673e-20 2.66549290e-20]\n",
      " [2.30436442e-20 2.86882855e-20]\n",
      " [2.25049392e-20 2.75781812e-20]\n",
      " [2.23308438e-20 2.82541394e-20]\n",
      " [1.92100393e-20 2.45827741e-20]\n",
      " [2.53350038e-20 2.30124042e-20]\n",
      " [2.31153235e-20 2.78501800e-20]\n",
      " [2.48757858e-20 2.25330403e-20]\n",
      " [2.35743201e-20 2.03068475e-20]\n",
      " [2.34727128e-20 2.81029237e-20]\n",
      " [2.36769909e-20 2.79396615e-20]\n",
      " [2.50135360e-20 2.43230405e-20]\n",
      " [2.15005144e-20 2.80181986e-20]]\n"
     ]
    }
   ],
   "source": [
    "from sklearn.naive_bayes import GaussianNB\n",
    "import math\n",
    "gnbClassifier = GaussianNB()\n",
    "gnbClassifier.fit(X2_train,y2_train)\n",
    "y2_pred_gnb = gnbClassifier.predict(X2_test)\n",
    "\n",
    "#print('priterior probability P(y=Ck | x_1,x_2…,x_D) = ',gnbClassifier.predict_proba(X2_test))\n",
    "#print('prior probabiity for each class P(y=Ck) = ', gnbClassifier.class_prior_)\n",
    "#print('gaussian distibution : sigma={}, theta={}'.format(gnbClassifier.sigma_, gnbClassifier.theta_)) \n",
    "gaussian_0 = np.sum((1/(gnbClassifier.sigma_[0]*np.power(2*math.pi, 30)))*np.exp(-np.power(X2_test-gnbClassifier.theta_[0],2)/(2*gnbClassifier.sigma_[0])), 1)\n",
    "gaussian_1 = np.sum((1/(gnbClassifier.sigma_[1]*np.power(2*math.pi, 30)))*np.exp(-np.power(X2_test-gnbClassifier.theta_[1],2)/(2*gnbClassifier.sigma_[1])), 1)\n",
    "gaussian = np.stack([gaussian_0, gaussian_1], 1)\n",
    "#print('Π P(xd|y=Ck) based on gaussian distibution = ', gaussian) "
   ]
  },
  {
   "cell_type": "code",
   "execution_count": 14,
   "metadata": {
    "id": "a1uU7olRcdpM"
   },
   "outputs": [
    {
     "name": "stdout",
     "output_type": "stream",
     "text": [
      "train accuracy 0.9149560117302052\n",
      "test accuracy 0.956140350877193\n"
     ]
    }
   ],
   "source": [
    "y2_pred_gnb = gnbClassifier.predict(X2_test)\n",
    "\n",
    "#Compute accuracy on the training set\n",
    "train_accuracy = knnClassifier.score(X2_train, y2_train)\n",
    "    \n",
    "#Compute accuracy on the test set\n",
    "test_accuracy = knnClassifier.score(X2_test, y2_test) \n",
    "\n",
    "print('train accuracy', train_accuracy)\n",
    "print('test accuracy',test_accuracy)"
   ]
  },
  {
   "cell_type": "markdown",
   "metadata": {
    "id": "iftgXOiztm1y"
   },
   "source": [
    "# QUESTIONS\n",
    "\n",
    "\n",
    "1.   なぜ学習時にデータ分割をしないで手持ちのデータを全て学習に使用してしまうのは間違いなのですか？\n",
    "\n",
    "\n",
    "2.   Regression(回帰)モデルで，学習データの数を変えたとき，どのような傾向が得られますか？実際に学習データサイズを変えて学習データに対するerror率，テストデータに対するerror率をグラフplotしてください．\n",
    "\n",
    "\n",
    "\n",
    "3.   Regression(回帰)モデルの上記例では，bmiしか特徴を使用していません．他の特徴を使用したときにどのような効果があるのか実験，考察してください．\n",
    "\n",
    "\n",
    "4.   学習させたモデルが上手くいっている(パフォーマンスが高い)ことを判定するには，どうすれば良いですか？\n",
    "\n",
    "\n",
    "5.   分類(classification)タスクを解く際に，今回学んだ３種類のアルゴリズムのうちどのアルゴリズムが適していますか？\n",
    "\n",
    "\n",
    "6.   ３種類のアルゴリズムのうち，validationデータを使用すべきアルゴリズムはどれですか？\n",
    "\n",
    "\n",
    "7.   KNNにおいて，どのようにすれば適切なkのサイズを決定できますか？ \n",
    "\n",
    "\n",
    "8.   単純ベイズ分類器(Naive classifiers)は確率を用いた分類器です．どのようにすれば学習させたモデルの確率情報を復元できますか？また，どのような値が復元されますか？\n",
    "\n",
    "\n",
    "\n",
    "\n",
    "\n",
    "応用問題(余力があれば！)\n",
    "9.   線形モデルは一般に回帰問題に使用され，KNNや単純ベイズ分類器は分類問題に使用されます．線形モデルを分類問題に使用することはできますか？また，KNNや単純ベイズ分類器を回帰問題に使用することはできますか？\n",
    "\n"
   ]
  },
  {
   "cell_type": "code",
   "execution_count": null,
   "metadata": {},
   "outputs": [],
   "source": []
  }
 ],
 "metadata": {
  "colab": {
   "collapsed_sections": [],
   "name": "Copy of LAB1-ARTIN-INTRO-sv.ipynb",
   "provenance": []
  },
  "kernelspec": {
   "display_name": "Python 3",
   "language": "python",
   "name": "python3"
  },
  "language_info": {
   "codemirror_mode": {
    "name": "ipython",
    "version": 3
   },
   "file_extension": ".py",
   "mimetype": "text/x-python",
   "name": "python",
   "nbconvert_exporter": "python",
   "pygments_lexer": "ipython3",
   "version": "3.8.3"
  }
 },
 "nbformat": 4,
 "nbformat_minor": 1
}
