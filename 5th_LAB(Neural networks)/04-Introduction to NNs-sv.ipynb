{
 "cells": [
  {
   "cell_type": "markdown",
   "metadata": {},
   "source": [
    "# Introduction to Neural Networks \n",
    "\n",
    "editted by Yuki Saito at 2021.01.18"
   ]
  },
  {
   "cell_type": "markdown",
   "metadata": {},
   "source": [
    "#### ニューラルネットワークの基本モデルとして，まず初めに単層ニューラルネット(隠れ層が１層もないネットワーク)を以下で紹介します．"
   ]
  },
  {
   "cell_type": "code",
   "execution_count": 68,
   "metadata": {},
   "outputs": [],
   "source": [
    "import numpy as np\n",
    "import matplotlib.pyplot as plt\n",
    "import h5py"
   ]
  },
  {
   "cell_type": "markdown",
   "metadata": {},
   "source": [
    "#### データセット読み込み(64*64解像度のRGB画像209枚)"
   ]
  },
  {
   "cell_type": "code",
   "execution_count": 69,
   "metadata": {},
   "outputs": [],
   "source": [
    "def load_dataset():\n",
    "    train_dataset = h5py.File('dataset/train_catvnoncat.h5', \"r\")\n",
    "    train_x = np.array(train_dataset[\"train_set_x\"][:]) \n",
    "    train_y = np.array(train_dataset[\"train_set_y\"][:])\n",
    "    test_dataset = h5py.File('dataset/test_catvnoncat.h5', \"r\")\n",
    "    test_x = np.array(test_dataset[\"test_set_x\"][:]) \n",
    "    test_y = np.array(test_dataset[\"test_set_y\"][:])\n",
    "    classes = np.array(test_dataset[\"list_classes\"][:]) \n",
    "    \n",
    "    train_y = train_y.reshape((1, train_y.shape[0]))\n",
    "    test_y = test_y.reshape((1, test_y.shape[0]))\n",
    "    \n",
    "    return train_x, train_y, test_x, test_y, classes\n",
    "\n",
    "train_x, train_y, test_x, test_y, classes=load_dataset()"
   ]
  },
  {
   "cell_type": "markdown",
   "metadata": {},
   "source": [
    "#### Visualize data"
   ]
  },
  {
   "cell_type": "code",
   "execution_count": 70,
   "metadata": {},
   "outputs": [
    {
     "data": {
      "image/png": "[encoded data removed]",
      "text/plain": [
       "<Figure size 432x288 with 1 Axes>"
      ]
     },
     "metadata": {
      "needs_background": "light"
     },
     "output_type": "display_data"
    },
    {
     "name": "stdout",
     "output_type": "stream",
     "text": [
      "Train X shape: (209, 64, 64, 3)\n"
     ]
    }
   ],
   "source": [
    "# run several times to visualize different data points\n",
    "# the title shows the ground truth class labels (0=no cat , 1 = cat)\n",
    "index = np.random.randint(low=0,high=train_y.shape[1])\n",
    "plt.imshow(train_x[index])\n",
    "plt.title(str(train_y[0,index]))\n",
    "plt.show()\n",
    "print (\"Train X shape: \" + str(train_x.shape))"
   ]
  },
  {
   "cell_type": "markdown",
   "metadata": {},
   "source": [
    "#### 前処理\n",
    "ニューラルネットワークの入力はn×1のベクトル形式なので，入力画像(64*64*3)をFlattenして１列のベクトルへと変換します．また，Loss関数の値を小さくし，ネットワークの学習効率を上げるために画像の画素値(0~255)を0~1の範囲に正規化しておきます．"
   ]
  },
  {
   "cell_type": "code",
   "execution_count": 71,
   "metadata": {},
   "outputs": [
    {
     "name": "stdout",
     "output_type": "stream",
     "text": [
      "Train X shape: (12288, 209)\n",
      "Train Y shape: (1, 209)\n",
      "Test X shape: (12288, 50)\n",
      "Test Y shape: (1, 50)\n"
     ]
    }
   ],
   "source": [
    "\n",
    "train_x = train_x.reshape(train_x.shape[0], -1).T\n",
    "#val_x = val_x.reshape(val_x.shape[0], -1).T\n",
    "test_x = test_x.reshape(test_x.shape[0], -1).T\n",
    "\n",
    "\n",
    "\n",
    "print (\"Train X shape: \" + str(train_x.shape))\n",
    "print (\"Train Y shape: \" + str(train_y.shape))\n",
    "#print (\"Val X shape: \" + str(val_x.shape))\n",
    "#print (\"Val Y shape: \" + str(val_y.shape))\n",
    "print (\"Test X shape: \" + str(test_x.shape))\n",
    "print (\"Test Y shape: \" + str(test_y.shape))"
   ]
  },
  {
   "cell_type": "code",
   "execution_count": 72,
   "metadata": {},
   "outputs": [],
   "source": [
    "train_x = train_x/255.\n",
    "test_x = test_x/255.\n"
   ]
  },
  {
   "cell_type": "markdown",
   "metadata": {},
   "source": [
    "### 1. 単層ニューラルネットワークを用いた分類タスク(Classification)\n"
   ]
  },
  {
   "cell_type": "markdown",
   "metadata": {},
   "source": [
    "**a) 以下の３関数はニューラルネットの学習に不可欠な要素を示しています:\n",
    "- **initialize_parameters** \n",
    "ネットワークのパラメータをランダム初期化するコード．ネットワークの重みをランダムで初期化しないと，中間層で全てのニューロン(ユニット)の結果が同じになってしまうため，ニューラルネットは学習が進みません．(「対称性」を破るためにランダム初期化する)\n",
    "\n",
    "\n",
    "-  **sigmoid**\n",
    "活性化関数(Activation Function)として非線形関数であるシグモイド関数を利用しています．非線形関数を用いないと，ニューラルネットは隠れ層の意味がなくなってしまい，１層のニューラルネットと変わらないモデルしか表現できません．\n",
    "\n",
    "Ex)３層ニューラルネットを考える．ネットワークの出力をh(x)で表現するとし，活性化関数をaxと線形で表現します．すると，feed fowardの結果は\n",
    " y(x)=h(h(h(x)))となり,これは y(x)=kx (k=a^3) と同じ結果になってしまいます．\n",
    "\n",
    "\n",
    "- **neuron** \n",
    "重みWを入力に対して乗算して，bias項を足し合わせる関数です．(W.Tx+b)"
   ]
  },
  {
   "cell_type": "code",
   "execution_count": 73,
   "metadata": {},
   "outputs": [],
   "source": [
    "def sigmoid(z):\n",
    "    return 1 / (1 + np.exp(-z))"
   ]
  },
  {
   "cell_type": "code",
   "execution_count": 74,
   "metadata": {},
   "outputs": [],
   "source": [
    "def initialize_parameters(dim):\n",
    "    init_w = 0.1\n",
    "    init_b = 1\n",
    "    w = init_w * np.random.randn(dim, 1)\n",
    "    b = init_b * np.random.randn(1)\n",
    "    return w, b"
   ]
  },
  {
   "cell_type": "code",
   "execution_count": 75,
   "metadata": {},
   "outputs": [],
   "source": [
    "def neuron(w,b,X):\n",
    "    pred_y = np.matmul(w.T, X) + b\n",
    "    return pred_y"
   ]
  },
  {
   "cell_type": "markdown",
   "metadata": {},
   "source": [
    "**b)** **Forward Pass:**\n",
    "まず，ネットワークの出力をKさんするFeedFoward(順伝搬)を行います．単層ニューラルネットワークなので以下の方程式で計算されます．\n",
    " \n",
    " \\begin{align}\n",
    " Y_{\\rm pred}=\\sigma(w^\\top X+b) = [y_{\\rm pred}^{(1)},y_{\\rm pred}^{(2)},\\dots,y_{\\rm pred}^{(m)}]\n",
    " \\end{align}\n",
    " "
   ]
  },
  {
   "cell_type": "code",
   "execution_count": 76,
   "metadata": {},
   "outputs": [
    {
     "name": "stdout",
     "output_type": "stream",
     "text": [
      "(1, 209)\n",
      "(12288, 1)\n"
     ]
    }
   ],
   "source": [
    "w, b = initialize_parameters(train_x.shape[0])\n",
    "pred_y = sigmoid(neuron(w, b, train_x))\n",
    "print(pred_y.shape)\n",
    "print(w.shape)"
   ]
  },
  {
   "cell_type": "markdown",
   "metadata": {},
   "source": [
    "**c) 損失関数(Loss関数):**\n",
    " \n",
    "ネットワークの出力(0~1)を入力画像があるクラスに属する確率と捉え，Binary Cross entropy Lossを用います.\n",
    "Binary Cross Entropy を用いることは対数尤度関数を最大化することに等しい意味があります．\n",
    " \\begin{align}\n",
    " E = - \\frac{1}{m} \\sum_{i=1}^m \n",
    " y^{(i)} \\log(y_{\\rm pred}^{(i)}) +\n",
    " (1-y^{(i)}) \\log(1-y_{\\rm pred}^{(i)})\n",
    " \\end{align}"
   ]
  },
  {
   "cell_type": "code",
   "execution_count": 77,
   "metadata": {},
   "outputs": [
    {
     "data": {
      "text/plain": [
       "4.840657049671921"
      ]
     },
     "execution_count": 77,
     "metadata": {},
     "output_type": "execute_result"
    }
   ],
   "source": [
    "\n",
    "def crossentropy(Y,Ypred):\n",
    "    delta = 1e-10\n",
    "    cost = -np.sum(Y * np.log(Ypred + delta) + (1-Y) * np.log((1-Ypred) + delta))/ Y.shape[1]\n",
    "    return cost\n",
    "\n",
    "crossentropy(train_y,pred_y)"
   ]
  },
  {
   "cell_type": "markdown",
   "metadata": {},
   "source": [
    "**d) Back propagation:**\n",
    "\n",
    "初期化->feed foward->Lossの計算と終えたら，最後にネットワークのパラメータを更新していきます．この更新をback propagationと呼びます．ニューラルネットワークの最大の特徴の１つで，微分のChain Rule(連鎖律)を用いてどんどん前の層へとパラメータの更新をかけていきます．\n",
    "\n",
    "\n",
    "\\begin{align}\n",
    "\\frac{\\partial E}{\\partial w} = & \\frac{1}{m} X(Y_{\\rm pred}-Y)^T\\\\\n",
    "\\frac{\\partial E}{\\partial b} = & \\frac{1}{m} (Y_{\\rm pred}-Y)\\\\\n",
    "\\end{align}\n",
    "\n",
    "See a demonstration in the wikipedia page \n",
    "https://en.wikipedia.org/wiki/Cross_entropy"
   ]
  },
  {
   "cell_type": "code",
   "execution_count": 78,
   "metadata": {},
   "outputs": [],
   "source": [
    "def backpropagate(X, Y, Ypred):\n",
    "    m = X.shape[1]\n",
    "    \n",
    "    #find gradient (back propagation)\n",
    "    dw = (1/m) * np.dot(X ,(Ypred-Y).T)\n",
    "    db = (1/m) * np.sum(Ypred-Y)\n",
    "    grads = {\"dw\": dw,\n",
    "             \"db\": db} \n",
    "    \n",
    "    return grads\n",
    "\n"
   ]
  },
  {
   "cell_type": "markdown",
   "metadata": {},
   "source": [
    "**e) Optimization**\n",
    "    BackPropagationではパラメータの微分値が上の計算で求まったら，Optimizationアルゴリズムを用いてLoss関数が最小になるようなパラメータを探索します．様々なOptimizationアルゴリズムがありますが，今回は一番単純なGradient Descent(最急降下法)を用います．"
   ]
  },
  {
   "cell_type": "code",
   "execution_count": 79,
   "metadata": {},
   "outputs": [
    {
     "name": "stdout",
     "output_type": "stream",
     "text": [
      "Cost after iteration 0: 1.190808\n",
      "Cost after iteration 100: 0.906548\n",
      "Cost after iteration 200: 0.798593\n",
      "Cost after iteration 300: 0.730884\n",
      "Cost after iteration 400: 0.679889\n",
      "Cost after iteration 500: 0.638731\n",
      "Cost after iteration 600: 0.604460\n",
      "Cost after iteration 700: 0.575336\n",
      "Cost after iteration 800: 0.550134\n",
      "Cost after iteration 900: 0.527956\n",
      "Cost after iteration 1000: 0.508146\n",
      "Cost after iteration 1100: 0.490230\n",
      "Cost after iteration 1200: 0.473864\n",
      "Cost after iteration 1300: 0.458793\n",
      "Cost after iteration 1400: 0.444826\n",
      "Cost after iteration 1500: 0.431816\n",
      "Cost after iteration 1600: 0.419649\n",
      "Cost after iteration 1700: 0.408233\n",
      "Cost after iteration 1800: 0.397490\n",
      "Cost after iteration 1900: 0.387357\n",
      "Cost after iteration 2000: 0.377780\n",
      "Cost after iteration 2100: 0.368709\n",
      "Cost after iteration 2200: 0.360105\n",
      "Cost after iteration 2300: 0.351930\n",
      "Cost after iteration 2400: 0.344151\n",
      "Cost after iteration 2500: 0.336740\n",
      "Cost after iteration 2600: 0.329670\n",
      "Cost after iteration 2700: 0.322917\n",
      "Cost after iteration 2800: 0.316459\n",
      "Cost after iteration 2900: 0.310278\n"
     ]
    }
   ],
   "source": [
    "def gradient_descent(X, Y, iterations, learning_rate):    \n",
    "    costs = []\n",
    "    w, b = initialize_parameters(train_x.shape[0])\n",
    "    \n",
    "    for i in range(iterations):\n",
    "        Ypred = sigmoid(neuron(w, b, X))\n",
    "        cost = crossentropy(Y,Ypred)\n",
    "        grads= backpropagate(X, Y, Ypred)\n",
    "        \n",
    "        #update parameters\n",
    "        w = w - learning_rate * grads[\"dw\"]\n",
    "        b = b - learning_rate * grads[\"db\"]\n",
    "        costs.append(cost)\n",
    "        \n",
    "        if i % 100 == 0:\n",
    "            print (\"Cost after iteration %i: %f\" %(i, cost))\n",
    "       \n",
    "    return w,b, costs\n",
    "\n",
    "w, b, costs = gradient_descent(train_x,train_y,iterations=3000, learning_rate = 0.001)\n"
   ]
  },
  {
   "cell_type": "markdown",
   "metadata": {},
   "source": [
    "**e) Plot the training curve**\n",
    "学習時のコスト関数の推移を可視化します．"
   ]
  },
  {
   "cell_type": "code",
   "execution_count": 80,
   "metadata": {},
   "outputs": [
    {
     "data": {
      "image/png": "[encoded data removed]",
      "text/plain": [
       "<Figure size 432x288 with 1 Axes>"
      ]
     },
     "metadata": {
      "needs_background": "light"
     },
     "output_type": "display_data"
    }
   ],
   "source": [
    "plt.plot(costs)\n",
    "plt.ylabel('cost')\n",
    "plt.xlabel('iterations')\n",
    "plt.show()"
   ]
  },
  {
   "cell_type": "markdown",
   "metadata": {},
   "source": [
    "**f) Prediction**\n",
    "testデータに対するpredictionを行い，training時のAccuracyとtest時のAcuuracyを計算します．"
   ]
  },
  {
   "cell_type": "code",
   "execution_count": 82,
   "metadata": {},
   "outputs": [
    {
     "name": "stdout",
     "output_type": "stream",
     "text": [
      "[[0 0 1 0 0 0 0 1 0 0 0 1 0 1 0 0 0 0 0 1 0 0 0 0 0 1 0 0 0 1 0 0 0 0 0 0\n",
      "  0 0 1 0 0 1 1 0 0 0 0 1 0 0 1 0 0 1 1 0 1 1 0 1 1 0 0 0 0 0 0 0 1 0 0 1\n",
      "  0 0 0 1 0 0 0 0 0 0 0 1 1 0 1 0 1 0 0 0 0 1 1 0 0 1 0 0 0 0 0 0 1 0 1 1\n",
      "  1 1 0 1 0 0 0 0 0 1 0 0 0 0 0 0 1 0 1 0 1 1 0 0 0 1 1 0 1 1 0 0 0 0 1 0\n",
      "  0 1 1 0 1 0 0 0 0 1 0 1 1 0 0 0 0 0 1 0 1 0 1 0 0 0 1 1 1 0 1 1 0 1 0 1\n",
      "  0 0 0 0 0 1 0 0 1 0 0 0 0 0 0 0 1 1 0 0 1 0 0 0 0 0 0 1 0]]\n",
      "[[1 1 1 0 0 0 0 0 1 0 1 0 1 0 1 0 0 1 1 0 0 1 1 0 1 1 0 0 0 1 1 1 1 0 0 0\n",
      "  1 1 0 0 1 1 0 0 1 0 1 1 1 0]]\n",
      "Train Acc: 90.43062200956938 %\n",
      "Test Acc: 60.0 %\n"
     ]
    }
   ],
   "source": [
    "def predict(w, b, X):    \n",
    "    y_pred = np.where(sigmoid(neuron(w, b, X)) <= 0.5, 0, 1)\n",
    "    print(y_pred)\n",
    "    return y_pred\n",
    "\n",
    "# predict \n",
    "train_pred_y = predict(w, b, train_x)\n",
    "test_pred_y = predict(w, b, test_x)\n",
    "print(\"Train Acc: {} %\".format(100 - np.mean(np.abs(train_pred_y - train_y)) * 100))\n",
    "print(\"Test Acc: {} %\".format(100 - np.mean(np.abs(test_pred_y - test_y)) * 100))\n",
    "    "
   ]
  },
  {
   "cell_type": "code",
   "execution_count": null,
   "metadata": {},
   "outputs": [],
   "source": []
  },
  {
   "cell_type": "code",
   "execution_count": null,
   "metadata": {},
   "outputs": [],
   "source": []
  },
  {
   "cell_type": "code",
   "execution_count": null,
   "metadata": {},
   "outputs": [],
   "source": []
  }
 ],
 "metadata": {
  "kernelspec": {
   "display_name": "Python 3",
   "language": "python",
   "name": "python3"
  },
  "language_info": {
   "codemirror_mode": {
    "name": "ipython",
    "version": 3
   },
   "file_extension": ".py",
   "mimetype": "text/x-python",
   "name": "python",
   "nbconvert_exporter": "python",
   "pygments_lexer": "ipython3",
   "version": "3.8.3"
  }
 },
 "nbformat": 4,
 "nbformat_minor": 4
}
