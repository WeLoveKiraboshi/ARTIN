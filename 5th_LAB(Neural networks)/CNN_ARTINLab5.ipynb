{
 "cells": [
  {
   "cell_type": "code",
   "execution_count": 175,
   "metadata": {
    "id": "dwPMxyhqg9fg"
   },
   "outputs": [],
   "source": [
    "### 2. CNNs with Keras\n",
    "\n",
    "###Adapt the example in this website https://keras.io/examples/vision/mnist_convnet/ to our problem. To this end:\n",
    "#- change the number of classes and the input size\n",
    "#- it is not necessary to expand the dimensions since our input is 3dimensional expand_dims(x_train, -1)\n",
    "#- you may need to transopose the labels vector\n",
    "#- change the categorical cross-entropy to the binary cross entropy given that our problem is binary classification. \n",
    "#- also change the softmax to sigmoid, the more appropriate activation function for binary data\n",
    "\n",
    "#We can choose a single neuron output passed through sigmoid, and then set a threshold to choose the class, or use two neuron output and then perform a softmax.\n",
    "\n",
    "#Can you get the accuracy better than in our hand made perceptron?\n",
    "\n",
    "#Make a report about your adaptions to improve the results"
   ]
  },
  {
   "cell_type": "markdown",
   "metadata": {
    "id": "MtxN41hM9yTU"
   },
   "source": [
    "Lab Member: Yuki Saito, Xiangi Li "
   ]
  },
  {
   "cell_type": "code",
   "execution_count": 176,
   "metadata": {
    "id": "LTuYobqdpgDs"
   },
   "outputs": [],
   "source": [
    "import numpy as np\n",
    "from tensorflow import keras\n",
    "from tensorflow.keras import layers\n",
    "\n",
    "import numpy as np\n",
    "import matplotlib.pyplot as plt\n",
    "import h5py"
   ]
  },
  {
   "cell_type": "code",
   "execution_count": 177,
   "metadata": {
    "colab": {
     "base_uri": "https://localhost:8080/"
    },
    "id": "pvMCvA3dqSgM",
    "outputId": "7366b0e2-e910-49fb-adaa-df4a32584ccc"
   },
   "outputs": [
    {
     "name": "stdout",
     "output_type": "stream",
     "text": [
      "Drive already mounted at /content/drive/; to attempt to forcibly remount, call drive.mount(\"/content/drive/\", force_remount=True).\n"
     ]
    }
   ],
   "source": [
    "from google.colab import drive\n",
    "drive.mount('/content/drive/')"
   ]
  },
  {
   "cell_type": "code",
   "execution_count": 178,
   "metadata": {
    "id": "A9W-qqEhprCk"
   },
   "outputs": [],
   "source": [
    "def load_dataset():\n",
    "    train_dataset = h5py.File('/content/drive/My Drive/dataset/train_catvnoncat.h5', \"r\")\n",
    "    train_x = np.array(train_dataset[\"train_set_x\"][:]) \n",
    "    train_y = np.array(train_dataset[\"train_set_y\"][:])\n",
    "    test_dataset = h5py.File('/content/drive/My Drive/dataset/test_catvnoncat.h5', \"r\")\n",
    "    test_x = np.array(test_dataset[\"test_set_x\"][:]) \n",
    "    test_y = np.array(test_dataset[\"test_set_y\"][:])\n",
    "    classes = np.array(test_dataset[\"list_classes\"][:]) \n",
    "    \n",
    "    train_y = train_y.reshape((1, train_y.shape[0]))\n",
    "    test_y = test_y.reshape((1, test_y.shape[0]))\n",
    "    \n",
    "    return train_x, train_y, test_x, test_y, classes"
   ]
  },
  {
   "cell_type": "code",
   "execution_count": 179,
   "metadata": {
    "colab": {
     "base_uri": "https://localhost:8080/"
    },
    "id": "6hNF6pJFptau",
    "outputId": "03ae1cd4-a6db-4b3b-b590-2406e322b796"
   },
   "outputs": [
    {
     "name": "stdout",
     "output_type": "stream",
     "text": [
      "(209, 64, 64, 3)\n",
      "(209, 1)\n"
     ]
    }
   ],
   "source": [
    "# the data, split between train and test sets\n",
    "x_train, y_train, x_test, y_test, classes=load_dataset()\n",
    "\n",
    "# Scale images to the [0, 1] range\n",
    "x_train = x_train.astype(\"float32\") / 255\n",
    "x_test = x_test.astype(\"float32\") / 255\n",
    "\n",
    "# convert class vectors to binary class matrices\n",
    "y_train = y_train.T\n",
    "y_test = y_test.T\n",
    "\n",
    "\n",
    "loss_criteria = \"binary_crossentropy\"\n",
    "model_criteria = \"model_softmax\"\n",
    "\n",
    "if model_criteria == \"model_sigmoid\":\n",
    "  from keras.utils import to_categorical\n",
    "  y_train = to_categorical(y_train)\n",
    "  y_test = to_categorical(y_test)\n",
    "\n",
    "\n",
    "print(x_train.shape)\n",
    "print(y_train.shape)"
   ]
  },
  {
   "cell_type": "code",
   "execution_count": 180,
   "metadata": {
    "colab": {
     "base_uri": "https://localhost:8080/"
    },
    "id": "Wk0etdH0srWE",
    "outputId": "93d121b5-a9fe-4574-944f-359c09dceb7f"
   },
   "outputs": [
    {
     "name": "stdout",
     "output_type": "stream",
     "text": [
      "Model: \"sequential_19\"\n",
      "_________________________________________________________________\n",
      "Layer (type)                 Output Shape              Param #   \n",
      "=================================================================\n",
      "conv2d_39 (Conv2D)           (None, 62, 62, 32)        896       \n",
      "_________________________________________________________________\n",
      "max_pooling2d_39 (MaxPooling (None, 31, 31, 32)        0         \n",
      "_________________________________________________________________\n",
      "conv2d_40 (Conv2D)           (None, 29, 29, 64)        18496     \n",
      "_________________________________________________________________\n",
      "max_pooling2d_40 (MaxPooling (None, 14, 14, 64)        0         \n",
      "_________________________________________________________________\n",
      "flatten_19 (Flatten)         (None, 12544)             0         \n",
      "_________________________________________________________________\n",
      "dropout_19 (Dropout)         (None, 12544)             0         \n",
      "_________________________________________________________________\n",
      "dense_19 (Dense)             (None, 2)                 25090     \n",
      "=================================================================\n",
      "Total params: 44,482\n",
      "Trainable params: 44,482\n",
      "Non-trainable params: 0\n",
      "_________________________________________________________________\n"
     ]
    }
   ],
   "source": [
    "#build the model\n",
    "\n",
    "input_shape = (x_train.shape[1], x_train.shape[2], x_train.shape[3])\n",
    "dropout_p = 0.25\n",
    "\n",
    "from keras.layers.advanced_activations import LeakyReLU, ReLU\n",
    "from keras.layers.normalization import BatchNormalization\n",
    "from keras.layers.core import Activation\n",
    "from keras import initializers\n",
    "from keras.initializers import he_normal, TruncatedNormal\n",
    "\n",
    "\n",
    "activation_ = 'relu' #LeakyReLU()\n",
    "\n",
    "if model_criteria == \"model_softmax\":\n",
    "  model = keras.Sequential([\n",
    "    keras.Input(shape=input_shape),\n",
    "    layers.Conv2D(32, kernel_size=(3, 3), activation=activation_, kernel_initializer=TruncatedNormal(mean=0.0, stddev=0.05, seed=2)),\n",
    "    layers.MaxPooling2D(pool_size=(2, 2)),\n",
    "    layers.Conv2D(64, kernel_size=(3, 3), activation=activation_, kernel_initializer=TruncatedNormal(mean=0.0, stddev=0.1, seed=1)),\n",
    "    layers.MaxPooling2D(pool_size=(2, 2)),\n",
    "    layers.Flatten(),\n",
    "    layers.Dropout(dropout_p),\n",
    "    layers.Dense(2, activation='softmax', kernel_initializer=he_normal()),\n",
    "  ])\n",
    "  model.summary()\n",
    "\n",
    "elif model_criteria == \"model_sigmoid\":\n",
    "  model = keras.Sequential([\n",
    "    keras.Input(shape=input_shape),\n",
    "    layers.Conv2D(16, kernel_size=(3, 3), activation=activation_,kernel_initializer=TruncatedNormal(mean=0.0, stddev=0.1, seed=1)),\n",
    "    layers.MaxPooling2D(pool_size=(2, 2)),\n",
    "    layers.Conv2D(32, kernel_size=(3, 3), activation=activation_,kernel_initializer=TruncatedNormal(mean=0.0, stddev=1.0, seed=2)), \n",
    "    layers.MaxPooling2D(pool_size=(2, 2)),\n",
    "    layers.Flatten(),\n",
    "    layers.Dropout(dropout_p),\n",
    "    layers.Dense(1, activation='sigmoid',kernel_initializer=he_normal())\n",
    "  ])\n",
    "  model.summary()"
   ]
  },
  {
   "cell_type": "code",
   "execution_count": 181,
   "metadata": {
    "colab": {
     "base_uri": "https://localhost:8080/"
    },
    "id": "hfPUe-skstzK",
    "outputId": "c5354713-7e4b-44cc-c31c-5f24c20660d6"
   },
   "outputs": [
    {
     "name": "stdout",
     "output_type": "stream",
     "text": [
      "Epoch 1/20\n",
      "47/47 [==============================] - 1s 27ms/step - loss: 0.7000 - accuracy: 0.4415 - val_loss: 0.6932 - val_accuracy: 0.5714\n",
      "Epoch 2/20\n",
      "47/47 [==============================] - 1s 24ms/step - loss: 0.6932 - accuracy: 0.4362 - val_loss: 0.6932 - val_accuracy: 0.5714\n",
      "Epoch 3/20\n",
      "47/47 [==============================] - 1s 24ms/step - loss: 0.6932 - accuracy: 0.4628 - val_loss: 0.6932 - val_accuracy: 0.5238\n",
      "Epoch 4/20\n",
      "47/47 [==============================] - 1s 24ms/step - loss: 0.6932 - accuracy: 0.5160 - val_loss: 0.6932 - val_accuracy: 0.4762\n",
      "Epoch 5/20\n",
      "47/47 [==============================] - 1s 24ms/step - loss: 0.6932 - accuracy: 0.4894 - val_loss: 0.6932 - val_accuracy: 0.4762\n",
      "Epoch 6/20\n",
      "47/47 [==============================] - 1s 24ms/step - loss: 0.6932 - accuracy: 0.5479 - val_loss: 0.6932 - val_accuracy: 0.4762\n",
      "Epoch 7/20\n",
      "47/47 [==============================] - 1s 24ms/step - loss: 0.6932 - accuracy: 0.4574 - val_loss: 0.6932 - val_accuracy: 0.5238\n",
      "Epoch 8/20\n",
      "47/47 [==============================] - 1s 24ms/step - loss: 0.6932 - accuracy: 0.5053 - val_loss: 0.6932 - val_accuracy: 0.3810\n",
      "Epoch 9/20\n",
      "47/47 [==============================] - 1s 24ms/step - loss: 0.6931 - accuracy: 0.4734 - val_loss: 0.6932 - val_accuracy: 0.4286\n",
      "Epoch 10/20\n",
      "47/47 [==============================] - 1s 25ms/step - loss: 0.6931 - accuracy: 0.4894 - val_loss: 0.6932 - val_accuracy: 0.3810\n",
      "Epoch 11/20\n",
      "47/47 [==============================] - 1s 25ms/step - loss: 0.6932 - accuracy: 0.5000 - val_loss: 0.6932 - val_accuracy: 0.4286\n",
      "Epoch 12/20\n",
      "47/47 [==============================] - 1s 24ms/step - loss: 0.6931 - accuracy: 0.4681 - val_loss: 0.6932 - val_accuracy: 0.4286\n",
      "Epoch 13/20\n",
      "47/47 [==============================] - 1s 24ms/step - loss: 0.6931 - accuracy: 0.4947 - val_loss: 0.6932 - val_accuracy: 0.4286\n",
      "Epoch 14/20\n",
      "47/47 [==============================] - 1s 24ms/step - loss: 0.6931 - accuracy: 0.4787 - val_loss: 0.6932 - val_accuracy: 0.5238\n",
      "Epoch 15/20\n",
      "47/47 [==============================] - 1s 24ms/step - loss: 0.6931 - accuracy: 0.4840 - val_loss: 0.6932 - val_accuracy: 0.5238\n",
      "Epoch 16/20\n",
      "47/47 [==============================] - 1s 24ms/step - loss: 0.6931 - accuracy: 0.4681 - val_loss: 0.6932 - val_accuracy: 0.3810\n",
      "Epoch 17/20\n",
      "47/47 [==============================] - 1s 24ms/step - loss: 0.6931 - accuracy: 0.5213 - val_loss: 0.6932 - val_accuracy: 0.5238\n",
      "Epoch 18/20\n",
      "47/47 [==============================] - 1s 24ms/step - loss: 0.6931 - accuracy: 0.4840 - val_loss: 0.6932 - val_accuracy: 0.5238\n",
      "Epoch 19/20\n",
      "47/47 [==============================] - 1s 25ms/step - loss: 0.6931 - accuracy: 0.4734 - val_loss: 0.6932 - val_accuracy: 0.5238\n",
      "Epoch 20/20\n",
      "47/47 [==============================] - 1s 24ms/step - loss: 0.6931 - accuracy: 0.4096 - val_loss: 0.6932 - val_accuracy: 0.4762\n"
     ]
    }
   ],
   "source": [
    "#comiple and fit\n",
    "from keras.optimizers import RMSprop, Adam, SGD\n",
    "bs_ = 32\n",
    "epochs_ = 20\n",
    "# Adam, SGD, RMSProp\n",
    "optimizer_ = Adam(lr=0.001, beta_1=0.9, beta_2=0.999, epsilon=None, decay=0.0, amsgrad=False)\n",
    "#SGD(lr=0.01, decay=1e-6, momentum=0.9, nesterov=True)\n",
    "\n",
    "model.compile(loss=loss_criteria, optimizer=optimizer_, metrics=[\"accuracy\"])\n",
    "history = model.fit(x_train, y_train, batch_size=bs_, epochs=epochs_, validation_split=0.1)\n"
   ]
  },
  {
   "cell_type": "code",
   "execution_count": 182,
   "metadata": {
    "colab": {
     "base_uri": "https://localhost:8080/",
     "height": 545
    },
    "id": "g1pu_8emtKFL",
    "outputId": "89dc5125-ebf4-48a3-c2af-1d340c4049f7"
   },
   "outputs": [
    {
     "data": {
      "image/png": "[encoded data removed]",
      "text/plain": [
       "<Figure size 432x288 with 1 Axes>"
      ]
     },
     "metadata": {
      "needs_background": "light",
      "tags": []
     },
     "output_type": "display_data"
    },
    {
     "data": {
      "image/png": "[encoded data removed]",
      "text/plain": [
       "<Figure size 432x288 with 1 Axes>"
      ]
     },
     "metadata": {
      "needs_background": "light",
      "tags": []
     },
     "output_type": "display_data"
    }
   ],
   "source": [
    "def show_training_process(history):\n",
    "  import matplotlib.pyplot as plt\n",
    "  # Setting Parameters\n",
    "  acc = history.history['accuracy']\n",
    "  val_acc = history.history['val_accuracy']\n",
    "  loss = history.history['loss']\n",
    "  val_loss = history.history['val_loss']\n",
    "  epochs = range(len(acc))\n",
    "\n",
    "  # 1) Accracy Plt\n",
    "  plt.plot(epochs, acc, 'r' ,label = 'training acc')\n",
    "  plt.plot(epochs, val_acc, 'b' , label= 'validation acc')\n",
    "  plt.title('Training and Validation acc')\n",
    "  plt.legend()\n",
    "  plt.figure()\n",
    "\n",
    "  # 2) Loss Plt\n",
    "  plt.plot(epochs, loss, 'r' ,label = 'training loss')\n",
    "  plt.plot(epochs, val_loss, 'b' , label= 'validation loss')\n",
    "  plt.title('Training and Validation loss')\n",
    "  plt.legend()\n",
    "  plt.show()\n",
    "\n",
    "\n",
    "show_training_process(history)"
   ]
  },
  {
   "cell_type": "code",
   "execution_count": 183,
   "metadata": {
    "colab": {
     "base_uri": "https://localhost:8080/"
    },
    "id": "l0zjQfWLs0I9",
    "outputId": "3d4e6d16-aa3d-4cd2-eeb4-6e74a0861ab8"
   },
   "outputs": [
    {
     "name": "stdout",
     "output_type": "stream",
     "text": [
      "***configuration of your model**\n",
      "the last leyer with :  model_softmax  activation\n",
      "loss :  binary_crossentropy \n",
      "\n",
      "\n",
      "Train loss: 0.6931476593017578\n",
      "Train accuracy: 0.5167464017868042 \n",
      "\n",
      "Test loss: 0.6931482553482056\n",
      "Test accuracy: 0.5\n"
     ]
    }
   ],
   "source": [
    "#evaluate\n",
    "print('***configuration of your model**')\n",
    "print('the last leyer with : ', model_criteria, ' activation')\n",
    "print('loss : ', loss_criteria, \"\\n\\n\")\n",
    "score = model.evaluate(x_train, y_train, verbose=0)\n",
    "print(\"Train loss:\", score[0])\n",
    "print(\"Train accuracy:\", score[1], \"\\n\")\n",
    "score = model.evaluate(x_test, y_test, verbose=0)\n",
    "print(\"Test loss:\", score[0])\n",
    "print(\"Test accuracy:\", score[1])"
   ]
  },
  {
   "cell_type": "markdown",
   "metadata": {
    "id": "xZLNexWoT__p"
   },
   "source": []
  },
  {
   "cell_type": "markdown",
   "metadata": {
    "id": "ynIbqPuoUGFN"
   },
   "source": [
    "Report:\n",
    "\n",
    "\n",
    "\n",
    "# **1. model explanation**\n",
    "\n",
    "  For this fully supervised learning task using CNN, I employed networks with 2 convolution layers and 2 max-pooling layers. \n",
    "Since, this is a binary classification task, the last fully connected layer (Dense) have 2 possibilities,\n",
    "* output 1 dim with sigmoid activation\n",
    "* output 2 dim with softmax activation\n",
    "I tried to optimize both models here.\n",
    "\n",
    "  This model is not so deep and dataset used here is not so large, only contains 209 training images. so, there is a high possibility to occur overfitting and to avoid this, I used dropout layer before the last fully connected layer with probability=25%.  Also, the initial wight seems to be important in this task and the weight should not have so large values. so, the weight of Conv2d is initialized by truncated normal distribution with mean=0, stddev=0~1. If I use higher stddev, the validation loss havd relatively large value and the loss curve didn't converge. so, I tried to use smaller stddev. In addition, the activation function of Conv2d is LeakyRelu(). LeakyRelu is different from Relu at the x<0 (x is horizontal axis) and the output value is not changed to 0 at x<0. At the first part of this lab, I used Relu activation, but the Relu has drawback that the it may causes dead neurons,so I considered it is better to use a small slope in x <0 by introducing LeakyRelu().\n",
    "\n",
    "\n",
    "# **2. experiment**\n",
    "  I split our dataset into train:val=9:1 and hired binary cross entropy loss for training. I used Adam optimizer with learning rate=0.001, beta_1=0.9, beta_2=0.999. The batchsize is 64 and the models are converged in 20 epochs.    \n",
    "  In the experiment I used my own implementation of single layer perceptron in the first part of this lab. Seeting this implementation as baseline, I compared the accuracy of keras CNNs. This baseline approach is implemented on first jupyter-notebook(04-Introduction to NNs-sv) and we trained it with 30000 iterations and optimize it with gradient descent learning rate=0.001.\n",
    "\n",
    "\n",
    "\n",
    "# **3. result and conclusion**\n",
    "Table1 below shows the best test accuracy of each models. I can improve the accuracy for test data compared with my hand-made model of numpy. Since, the network of this keras model is deeper than my single layer perceptron, the nectwork could aquire better features from images. (It is usually considered that the model has deeper layers, the accuracy is better ). Also Convolution calculates image spatial features (edges etc..) and is robust to position changing in a image, CNN is so prefarable approach for ML task using images among DNNs. \n",
    "---\n"
   ]
  },
  {
   "cell_type": "code",
   "execution_count": 184,
   "metadata": {
    "colab": {
     "base_uri": "https://localhost:8080/",
     "height": 159
    },
    "id": "XMwn8_HhS7PO",
    "outputId": "11551782-3a64-4cc1-b60f-ef306cf4b692"
   },
   "outputs": [
    {
     "name": "stdout",
     "output_type": "stream",
     "text": [
      "               Table1: test accuracy of keras CNN models   \n"
     ]
    },
    {
     "data": {
      "text/html": [
       "<div>\n",
       "<style scoped>\n",
       "    .dataframe tbody tr th:only-of-type {\n",
       "        vertical-align: middle;\n",
       "    }\n",
       "\n",
       "    .dataframe tbody tr th {\n",
       "        vertical-align: top;\n",
       "    }\n",
       "\n",
       "    .dataframe thead th {\n",
       "        text-align: right;\n",
       "    }\n",
       "</style>\n",
       "<table border=\"1\" class=\"dataframe\">\n",
       "  <thead>\n",
       "    <tr style=\"text-align: right;\">\n",
       "      <th></th>\n",
       "      <th>test accuracy (%)</th>\n",
       "    </tr>\n",
       "  </thead>\n",
       "  <tbody>\n",
       "    <tr>\n",
       "      <th>model with sigmoid activation</th>\n",
       "      <td>81.999</td>\n",
       "    </tr>\n",
       "    <tr>\n",
       "      <th>model with softmax activation</th>\n",
       "      <td>83.999</td>\n",
       "    </tr>\n",
       "    <tr>\n",
       "      <th>baseline(my implementation of single layer perceptron)</th>\n",
       "      <td>74.000</td>\n",
       "    </tr>\n",
       "  </tbody>\n",
       "</table>\n",
       "</div>"
      ],
      "text/plain": [
       "                                                    test accuracy (%)\n",
       "model with sigmoid activation                                  81.999\n",
       "model with softmax activation                                  83.999\n",
       "baseline(my implementation of single layer perc...             74.000"
      ]
     },
     "execution_count": 184,
     "metadata": {
      "tags": []
     },
     "output_type": "execute_result"
    }
   ],
   "source": [
    "import pandas as pd\n",
    "print('               Table1: test accuracy of keras CNN models   ')\n",
    "list = [\n",
    "[81.999], \n",
    "[83.999], \n",
    "[74.00]\n",
    "]\n",
    "ind = ['model with sigmoid activation', 'model with softmax activation', 'baseline(my implementation of single layer perceptron)']\n",
    "col = ['test accuracy (%)']\n",
    "\n",
    "df = pd.DataFrame(list, index=ind, columns=col)\n",
    "df"
   ]
  }
 ],
 "metadata": {
  "colab": {
   "collapsed_sections": [],
   "name": "CNN_ARTINLab5.ipynb",
   "provenance": []
  },
  "kernelspec": {
   "display_name": "Python 3",
   "language": "python",
   "name": "python3"
  },
  "language_info": {
   "codemirror_mode": {
    "name": "ipython",
    "version": 3
   },
   "file_extension": ".py",
   "mimetype": "text/x-python",
   "name": "python",
   "nbconvert_exporter": "python",
   "pygments_lexer": "ipython3",
   "version": "3.6.12"
  }
 },
 "nbformat": 4,
 "nbformat_minor": 1
}
